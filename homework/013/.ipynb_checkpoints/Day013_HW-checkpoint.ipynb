{
 "cells": [
  {
   "cell_type": "markdown",
   "metadata": {},
   "source": [
    "# PTT 網路爬蟲實作練習\n",
    "\n",
    "\n",
    "* 能夠利用 Request + BeatifulSour 撰寫爬蟲，並存放到合適的資料結構\n"
   ]
  },
  {
   "cell_type": "markdown",
   "metadata": {},
   "source": [
    "## 作業目標\n",
    "\n",
    "根據範例 ，完成以下問題：\n",
    "\n",
    "* ① 印出最新文章的「作者」「標題」「時間」\n",
    "* ② 印出第一頁所有文章的「作者」「標題」「時間」\n"
   ]
  },
  {
   "cell_type": "markdown",
   "metadata": {},
   "source": [
    "### ① 印出最新文章的「作者」「標題」「時間」"
   ]
  },
  {
   "cell_type": "code",
   "execution_count": 27,
   "metadata": {},
   "outputs": [
    {
     "name": "stdout",
     "output_type": "stream",
     "text": [
      "kartg123456 [討論] 13年和14年馬刺熱火決賽  3/22\n"
     ]
    }
   ],
   "source": [
    "import requests\n",
    "from bs4 import BeautifulSoup\n",
    "url = 'https://www.ptt.cc/bbs/NBA/index.html'\n",
    "r = requests.get(url)\n",
    "soup = BeautifulSoup(r.text, 'html5lib')\n",
    "s = soup.find(class_ = 'r-ent')\n",
    "print(s.find(class_ = 'author').text.replace('\\t','').replace('\\n',''), s.find(class_ = 'title').text.replace('\\t','').replace('\\n',''), s.find(class_ = 'date').text.replace('\\t','').replace('\\n',''))\n"
   ]
  },
  {
   "cell_type": "markdown",
   "metadata": {},
   "source": [
    "### ② 印出第一頁所有文章的「作者」「標題」「時間」"
   ]
  },
  {
   "cell_type": "code",
   "execution_count": 28,
   "metadata": {},
   "outputs": [
    {
     "name": "stdout",
     "output_type": "stream",
     "text": [
      "kartg123456 [討論] 13年和14年馬刺熱火決賽  3/22\n",
      "pneumo [討論] Reddit今日熱門:Zion看起來像Toothless嗎  3/22\n",
      "lvntrs59 [花邊] 義大利死亡數創新高 馬刺射手：像電影  3/22\n",
      "love1500274 [情報] NBA官方正重播Lillard 0.9秒絕殺火箭賽事  3/22\n",
      "kikiqq514 [新聞] 不滿川普疫情態度 勇士教頭推特對總統開  3/22\n",
      "jjeffrey1015 [花邊] 鄧肯自掏腰包 協助維京群島學生返家  3/22\n",
      "PttGod [花邊]詹姆斯：訓練過後準備上樓洗澡,岳母叫住我  3/22\n",
      "fan800509 [討論]  史上排名前五的射手投藍姿勢  3/22\n",
      "justgetup Re: [討論]  史上排名前五的射手投藍姿勢  3/22\n",
      "gondou [花邊] Jamal Murray 上推特熱門  3/22\n",
      "Superman007 [情報] Jamal Murray IG帳號被盜  3/22\n",
      "Bainite Re: [花邊] Jamal Murray 上推特熱門  3/22\n",
      "godispower Re: [討論]  史上排名前五的射手投藍姿勢  3/22\n",
      "thnlkj0665 [花邊] 為新球季做準備  勇士管理層：盼選即戰力  3/22\n",
      "s106667 [新聞] 跨足電競產業 卡珍斯簽約NRG戰隊  3/22\n",
      "- (本文已被刪除) [andy880913]  3/22\n",
      "SwissMiniGun Re: [討論]  史上排名前五的射手投藍姿勢  3/22\n",
      "hhll5566 [討論] 討論球員的模板的實質意義是什麼  3/22\n",
      "thnlkj0665 [情報] Trae Young 推特: Masked Trae  3/22\n",
      "swipp Re: [討論] 13年和14年馬刺熱火決賽  3/22\n",
      "Vedan [公告] 板規v6.8  5/24\n",
      "qazwsx879345 [公告] 版主上任相關事項  10/25\n",
      "Acetoxy [情報] SEASON Schedule 賽程 March 19–20  3/02\n",
      "Vedan [公告] 第一次被退文，可在三天後刪除退文  3/09\n"
     ]
    }
   ],
   "source": [
    "for ss in soup.find_all(class_ = 'r-ent'):\n",
    "    print(ss.find(class_ = 'author').text, ss.find(class_ = 'title').text.replace('\\t','').replace('\\n',''), ss.find(class_ = 'date').text)"
   ]
  },
  {
   "cell_type": "markdown",
   "metadata": {},
   "source": [
    "### ③ 試著爬爬看其他版的文章"
   ]
  },
  {
   "cell_type": "code",
   "execution_count": 36,
   "metadata": {},
   "outputs": [
    {
     "name": "stdout",
     "output_type": "stream",
     "text": [
      "jimmy8343 [問卦] 報復性反彈到底在報復甚麼?  3/22\n",
      "ceramicfa [問卦] 插隊三寶除了嗆他也不能怎樣的卦?  3/22\n",
      "ftyu [問卦] 淳兒事件 問題最大的應該是台大醫院吧？  3/22\n",
      "pp5434 Re: [問卦] 各位都走網購還是實體店？  3/22\n",
      "f17690815 [問卦] 低能鄰居在漆油漆怎麼檢舉  3/22\n",
      "bb0x0 [問卦] 維他命B的真諦是什麼。  3/22\n",
      "zoriyah [問卦] 火車便當這姿勢很爽嗎？  3/22\n",
      "dearjohn307 [問卦] 淳兒口中那個無助的老頭是誰啊？  3/22\n",
      "rasiel0919 [問卦] 網軍跟五毛都睡了嗎  3/22\n",
      "new2smart7 Re: [問卦] 中時這次怎麼這麼努力報導?  3/22\n",
      "protocole [新聞] 慰勞醫護檢疫、救護人員！家樂福推免費送  3/22\n",
      "Luismth [問卦] 這10年來你印象最深刻的是什麼事  3/22\n",
      "horse5566lee [問卦] 兩線四星的警察很大嗎?可電檢察官嗎?  3/22\n",
      "Cory5566 [問卦] 有沒有Neil deGrasse Tyson 的卦  3/22\n",
      "jiern Re: [政治] 影／張上淳兒子出國滑雪惹議！陳時中兩  3/22\n",
      "pennyleo Re: [問卦] 有史上最強變種人當女友是什麼感覺  3/22\n",
      "Paravion Re: [問卦] Will怎麼不講一下中國的失蹤事件？  3/22\n",
      "NeymarJr5566 [新聞] 武磊成中國首確診現役國腳　「症狀基本  3/22\n",
      "DJSHD2 [問卦] 當初台灣人怎麼會去蹭林書豪LINSANITY?  3/22\n",
      "panzer1224 [爆卦] 三大男高音多明哥中標武漢肺炎啦!!!!!!  3/22\n",
      "arsonlolita [協尋] 埔里埔霧公路/七堵俊賢路/高雄博愛同盟路/交大/國一南下42  3/17\n",
      "DreamYeh [公告] 八卦板板規(2020.03.21)  3/21\n",
      "arsonlolita [公告] 說明[政治]分類使用方式  3/21\n",
      "mirai11 [協尋] 家人妹妹失蹤  3/22\n"
     ]
    }
   ],
   "source": [
    "url2 = 'https://www.ptt.cc/bbs/Gossiping/index.html'\n",
    "r2 = requests.get(url2, cookies={'over18': '1'})\n",
    "soup2 = BeautifulSoup(r2.text, 'html5lib')\n",
    "for ss2 in soup2.find_all(class_ = 'r-ent'):\n",
    "    print(ss2.find(class_ = 'author').text, ss2.find(class_ = 'title').text.replace('\\t','').replace('\\n',''), ss2.find(class_ = 'date').text)"
   ]
  },
  {
   "cell_type": "code",
   "execution_count": null,
   "metadata": {},
   "outputs": [],
   "source": []
  }
 ],
 "metadata": {
  "kernelspec": {
   "display_name": "Python 3",
   "language": "python",
   "name": "python3"
  },
  "language_info": {
   "codemirror_mode": {
    "name": "ipython",
    "version": 3
   },
   "file_extension": ".py",
   "mimetype": "text/x-python",
   "name": "python",
   "nbconvert_exporter": "python",
   "pygments_lexer": "ipython3",
   "version": "3.7.4"
  }
 },
 "nbformat": 4,
 "nbformat_minor": 2
}
