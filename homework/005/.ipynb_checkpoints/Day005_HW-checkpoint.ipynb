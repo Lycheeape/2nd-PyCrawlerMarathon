{
 "cells": [
  {
   "cell_type": "markdown",
   "metadata": {},
   "source": [
    "# API 資料串接 - 以 Dcard API 實作範例\n",
    "\n",
    "* 了解 Dcard API 使用方式與回傳內容\n",
    "* 撰寫程式存取 API 且解析 JSON 格式資料\n"
   ]
  },
  {
   "cell_type": "markdown",
   "metadata": {},
   "source": [
    "## 作業目標\n",
    "\n",
    "* 請利用 API: https://www.dcard.tw/_api/forums/pet/posts?popular=true 回答下列問題：\n",
    "\n",
    "1. 這個 API 一次會回傳幾筆資料？每一筆資料包含哪些欄位？\n",
    "2. 取出每一筆資料的「標題」、「貼文時間」、「留言人數」、「按讚人數」\n",
    "3. 計算熱門/非熱門文章的「平均留言人數」與「平均按讚人數」"
   ]
  },
  {
   "cell_type": "code",
   "execution_count": 5,
   "metadata": {},
   "outputs": [],
   "source": [
    "import requests\n",
    "import json\n",
    "\n",
    "r = requests.get('https://www.dcard.tw/_api/forums/pet/posts?popular=true')\n",
    "data = json.loads(r.text)"
   ]
  },
  {
   "cell_type": "code",
   "execution_count": 13,
   "metadata": {},
   "outputs": [
    {
     "name": "stdout",
     "output_type": "stream",
     "text": [
      "id\n",
      "title\n",
      "excerpt\n",
      "anonymousSchool\n",
      "anonymousDepartment\n",
      "pinned\n",
      "forumId\n",
      "replyId\n",
      "createdAt\n",
      "updatedAt\n",
      "commentCount\n",
      "likeCount\n",
      "withNickname\n",
      "tags\n",
      "topics\n",
      "meta\n",
      "forumName\n",
      "forumAlias\n",
      "gender\n",
      "school\n",
      "replyTitle\n",
      "mediaMeta\n",
      "reactions\n",
      "hidden\n",
      "customStyle\n",
      "isSuspiciousAccount\n",
      "layout\n",
      "withImages\n",
      "withVideos\n",
      "media\n",
      "reportReasonText\n",
      "postAvatar\n"
     ]
    }
   ],
   "source": [
    "# 1. 這個 API 一次會回傳幾筆資料？每一筆資料包含哪些欄位？\n",
    "len(data)\n",
    "for i in data[0]:\n",
    "    print(i)"
   ]
  },
  {
   "cell_type": "code",
   "execution_count": 17,
   "metadata": {},
   "outputs": [
    {
     "name": "stdout",
     "output_type": "stream",
     "text": [
      "標題: 一秒變神奇寶貝狃拉 貼文時間: 2020-03-01T15:08:55.199Z 留言人數: 9 按讚人數: 213\n",
      "標題: 我的貓是什麼品種？ 貼文時間: 2020-03-01T11:15:38.320Z 留言人數: 14 按讚人數: 205\n",
      "標題: 我說睡就睡 貼文時間: 2020-03-01T16:45:23.608Z 留言人數: 2 按讚人數: 59\n",
      "標題: 曬個法鬥 貼文時間: 2020-03-01T11:49:19.897Z 留言人數: 7 按讚人數: 56\n",
      "標題: 三重 協尋貓咪\n",
      "請大家幫忙留意~謝謝 QAQ 貼文時間: 2020-03-01T01:23:57.748Z 留言人數: 1 按讚人數: 53\n",
      "標題: 黃金瑞比崩壞系列 貼文時間: 2020-03-01T08:42:58.993Z 留言人數: 3 按讚人數: 42\n",
      "標題: #圖#貓 三年後妳的樣子 貼文時間: 2020-03-01T08:33:55.003Z 留言人數: 2 按讚人數: 31\n",
      "標題: 🐹🐹想你 貼文時間: 2020-03-01T06:20:58.390Z 留言人數: 0 按讚人數: 31\n",
      "標題: 不小心敗了一件少女風給茶包 貼文時間: 2020-03-02T02:06:21.546Z 留言人數: 3 按讚人數: 28\n",
      "標題: 我要通緝妳的狗🚓 貼文時間: 2020-03-02T01:35:29.456Z 留言人數: 2 按讚人數: 27\n",
      "標題: 士在哈嘍！ 貼文時間: 2020-03-01T21:07:31.469Z 留言人數: 3 按讚人數: 27\n",
      "標題: 你太可愛了喔(⁎⁍̴̛ᴗ⁍̴̛⁎) 貼文時間: 2020-03-01T05:24:26.503Z 留言人數: 5 按讚人數: 27\n",
      "標題: ⚠️急尋貓 貼文時間: 2020-03-01T12:21:16.288Z 留言人數: 0 按讚人數: 22\n",
      "標題: 我就爛啦喵！ 貼文時間: 2020-03-02T04:45:11.891Z 留言人數: 3 按讚人數: 18\n",
      "標題: 我家的貓真的覺得自己是女王^_^ 貼文時間: 2020-03-01T10:53:27.848Z 留言人數: 3 按讚人數: 17\n",
      "標題: 你認真的表情讓我害怕 貼文時間: 2020-03-01T05:58:55.903Z 留言人數: 2 按讚人數: 16\n",
      "標題: 在動物醫院工作的小確幸 貼文時間: 2020-03-01T11:40:24.081Z 留言人數: 5 按讚人數: 15\n",
      "標題: 台中太平洋鸚鵡飛失 貼文時間: 2020-03-01T11:11:54.026Z 留言人數: 1 按讚人數: 14\n",
      "標題: 遛貓絕對不是好點子 貼文時間: 2020-03-02T04:38:40.592Z 留言人數: 0 按讚人數: 13\n",
      "標題: 撞死小貓無良肇事者、怕輿論的警員、小貓飼主反被罰 貼文時間: 2020-03-01T16:13:24.677Z 留言人數: 3 按讚人數: 13\n",
      "標題: 喵睡姿 貼文時間: 2020-03-01T12:04:06.947Z 留言人數: 2 按讚人數: 12\n",
      "標題: 另一種方式曬貓♥️ 貼文時間: 2020-03-01T14:40:27.782Z 留言人數: 2 按讚人數: 11\n",
      "標題: 協尋三重的貓咪 貼文時間: 2020-03-01T05:37:48.813Z 留言人數: 1 按讚人數: 10\n",
      "標題: 男朋友加班，感到生無可戀的貓 貼文時間: 2020-03-01T17:24:38.496Z 留言人數: 1 按讚人數: 9\n",
      "標題: 養了狗以後。爸媽的轉變😱 貼文時間: 2020-03-01T13:45:55.493Z 留言人數: 2 按讚人數: 9\n",
      "標題: 我是北藤 貼文時間: 2020-03-01T11:00:51.616Z 留言人數: 1 按讚人數: 8\n",
      "標題: 協尋 虎皮鸚鵡 貼文時間: 2020-03-01T03:51:21.462Z 留言人數: 0 按讚人數: 8\n",
      "標題: 為新狗狗取新名字 貼文時間: 2020-03-01T15:45:23.469Z 留言人數: 16 按讚人數: 7\n",
      "標題: 3K英短？ 貼文時間: 2020-03-01T07:29:05.010Z 留言人數: 15 按讚人數: 7\n",
      "標題: 對喔! 貼文時間: 2020-03-02T05:09:05.207Z 留言人數: 0 按讚人數: 6\n"
     ]
    }
   ],
   "source": [
    "# 2. 取出每一筆資料的「標題」、「貼文時間」、「留言人數」、「按讚人數」\n",
    "\n",
    "for d in data:\n",
    "    print('標題:',d['title'], '貼文時間:',d['createdAt'], '留言人數:',d['commentCount'], '按讚人數:',d['likeCount'])"
   ]
  },
  {
   "cell_type": "code",
   "execution_count": 22,
   "metadata": {},
   "outputs": [
    {
     "name": "stdout",
     "output_type": "stream",
     "text": [
      "平均留言人數: 3.6\n",
      "平均按讚人數: 33.8\n"
     ]
    }
   ],
   "source": [
    "# 3. 計算熱門/非熱門文章的「平均留言人數」與「平均按讚人數」\n",
    "commentsC = 0\n",
    "likeC = 0\n",
    "for d in data:\n",
    "    commentsC += d['commentCount']\n",
    "    likeC += d['likeCount']\n",
    "    \n",
    "print('平均留言人數:',commentsC/len(data))\n",
    "print('平均按讚人數:',likeC/len(data))"
   ]
  }
 ],
 "metadata": {
  "kernelspec": {
   "display_name": "Python 3",
   "language": "python",
   "name": "python3"
  },
  "language_info": {
   "codemirror_mode": {
    "name": "ipython",
    "version": 3
   },
   "file_extension": ".py",
   "mimetype": "text/x-python",
   "name": "python",
   "nbconvert_exporter": "python",
   "pygments_lexer": "ipython3",
   "version": "3.7.4"
  }
 },
 "nbformat": 4,
 "nbformat_minor": 2
}
