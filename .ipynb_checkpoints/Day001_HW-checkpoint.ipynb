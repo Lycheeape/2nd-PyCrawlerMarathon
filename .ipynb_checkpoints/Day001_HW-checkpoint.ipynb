{
 "cells": [
  {
   "cell_type": "markdown",
   "metadata": {},
   "source": [
    "# Day001_HW\n",
    "## 1.（簡答題）檔案、API、爬蟲三種取得資料方式有什麼不同？\n",
    "- 檔案：資料會包成檔案以供下載，常見格式有CSV, JSON, XML等\n",
    "- API：提供城市化連接的接口，欲使用時不須事先下載資料，可選擇要讀取資料的特定部分\n",
    "- 爬蟲：資料未主動提供而是呈現於網頁之中，運用爬蟲程式解析網頁中需要的資料"
   ]
  },
  {
   "cell_type": "markdown",
   "metadata": {},
   "source": [
    "## 2. （實作）完成一個程式，需滿足下列需求：\n",
    "「下載指定檔案到 Data 資料夾，存成檔名 Homework.txt」的檔案網址：https://www.w3.org/TR/PNG/iso_8859-1.txt 或任一個 .txt 的檔案網址\n",
    "\n",
    "檢查 Data 資料夾是否有 Homework.txt 檔名之檔案\n",
    "\n",
    "將「Hello World」字串覆寫到 Homework.txt 檔案\n",
    "\n",
    "檢查 Homework.txt 檔案字數是否符合 Hello World 字數"
   ]
  },
  {
   "cell_type": "code",
   "execution_count": 1,
   "metadata": {},
   "outputs": [],
   "source": [
    "from urllib.request import urlretrieve\n",
    "import os"
   ]
  },
  {
   "cell_type": "code",
   "execution_count": 2,
   "metadata": {},
   "outputs": [
    {
     "data": {
      "text/plain": [
       "('./Data/Homework.txt', <http.client.HTTPMessage at 0x1119c3b50>)"
      ]
     },
     "execution_count": 2,
     "metadata": {},
     "output_type": "execute_result"
    }
   ],
   "source": [
    "urlretrieve('https://www.w3.org/TR/PNG/iso_8859-1.txt','./Data/Homework.txt')"
   ]
  },
  {
   "cell_type": "code",
   "execution_count": 3,
   "metadata": {},
   "outputs": [
    {
     "name": "stdout",
     "output_type": "stream",
     "text": [
      "Yes\n"
     ]
    }
   ],
   "source": [
    "files = os.listdir('./Data')\n",
    "\n",
    "if 'Homework.txt' in files:\n",
    "    print('Yes')\n",
    "else:\n",
    "    print('No')"
   ]
  },
  {
   "cell_type": "code",
   "execution_count": 4,
   "metadata": {},
   "outputs": [],
   "source": [
    "with open('./Data/Homework.txt','w') as f:\n",
    "    ff = f.write('Hello World')\n",
    "try:    \n",
    "    with open('./Data/Homework.txt') as f:\n",
    "        t = f.read()\n",
    "except:\n",
    "    pass\n",
    "    "
   ]
  },
  {
   "cell_type": "code",
   "execution_count": 5,
   "metadata": {},
   "outputs": [
    {
     "name": "stdout",
     "output_type": "stream",
     "text": [
      "Yes\n"
     ]
    }
   ],
   "source": [
    "if len(t) == len('Hello World'):\n",
    "    print('Yes')\n",
    "else:\n",
    "    print('No')"
   ]
  }
 ],
 "metadata": {
  "kernelspec": {
   "display_name": "Python 3.7.4 64-bit ('base': conda)",
   "language": "python",
   "name": "python37464bitbasecondad759a15218c54560a938278e1beee9cc"
  },
  "language_info": {
   "codemirror_mode": {
    "name": "ipython",
    "version": 3
   },
   "file_extension": ".py",
   "mimetype": "text/x-python",
   "name": "python",
   "nbconvert_exporter": "python",
   "pygments_lexer": "ipython3",
   "version": "3.7.4"
  }
 },
 "nbformat": 4,
 "nbformat_minor": 2
}
